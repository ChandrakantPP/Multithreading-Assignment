{
 "cells": [
  {
   "cell_type": "markdown",
   "id": "e5557abb-7e59-447a-93b4-a5cfa7697077",
   "metadata": {},
   "source": [
    "Q.1 What is multithreading in python? Why is it used? Name the module used to handle threads in python"
   ]
  },
  {
   "cell_type": "markdown",
   "id": "d667bcdb-1ce5-42fb-8f8d-8ab090197ab6",
   "metadata": {},
   "source": [
    "Ans:- Multithreading:- the ability of a processor to execute multiple threads concurrently."
   ]
  },
  {
   "cell_type": "markdown",
   "id": "3fd02855-3d74-4b94-bd73-e7760dd3f4aa",
   "metadata": {},
   "source": [
    "## why is it used\n",
    "enables efficient utilization of the resources as the threads share the data space and memory. "
   ]
  },
  {
   "cell_type": "markdown",
   "id": "8fe72a7b-b1ae-4e0e-b4cf-43e229e0039a",
   "metadata": {},
   "source": [
    "## Name of module used to handle threads in python\n",
    "Threading Modules"
   ]
  },
  {
   "cell_type": "raw",
   "id": "1adad78d-d499-407a-b083-a8b932372150",
   "metadata": {},
   "source": [
    "Q.2 Why threading module used? write the use of the following functions\n",
    "1. activeCount()\n",
    "2. currentThread()\n",
    "3. enumerate()"
   ]
  },
  {
   "cell_type": "markdown",
   "id": "24b1b974-86df-411a-a59b-40983c98e05c",
   "metadata": {},
   "source": [
    "Ans:- threading module is used for creating, controlling and managing threads in python. "
   ]
  },
  {
   "cell_type": "raw",
   "id": "d6e18c63-b170-476d-aa14-4c80db1bf31e",
   "metadata": {},
   "source": [
    "1) activeCount():- Returns the number of thread objects that are active.\n",
    "2) currentThread():- Returns the number of thread objects in the caller's thread control.\n",
    "3) enumerate():- Returns a list of all thread objects that are currently active."
   ]
  },
  {
   "cell_type": "raw",
   "id": "1ce346a5-466c-4279-87fd-a09eff367fd7",
   "metadata": {},
   "source": [
    "Q.3. Explain the following functions\n",
    "1. run()\n",
    "2. start()\n",
    "3. join()\n",
    "4. isAlive()"
   ]
  },
  {
   "cell_type": "raw",
   "id": "d1e4061f-8aec-4bbd-9e61-59b445e2ce26",
   "metadata": {},
   "source": [
    "Ans:- run():- method executes any target function belonging to a given thread object that is now active.\n",
    "      start():- it is used to start a thread's activity.\n",
    "      join():- The join() method provides a way for one thread to block until another thread has finished.\n",
    "      isAlive():- checks whether a thread is still executing."
   ]
  },
  {
   "cell_type": "markdown",
   "id": "bef78c92-7499-4bd8-9883-43a87a28bb47",
   "metadata": {},
   "source": [
    "Q.4. Write a python program to create two threads. Thread one must print the list of squares and thread\n",
    "two must print the list of cubes"
   ]
  },
  {
   "cell_type": "code",
   "execution_count": 26,
   "id": "2bc68bd9-d84c-4573-ac9a-7015ce2c54b2",
   "metadata": {},
   "outputs": [],
   "source": [
    "# Example list of squares and list of cubes\n",
    "import threading\n",
    "def square(n):\n",
    "    return n**2\n",
    "def cube(n):\n",
    "    return n*n*n\n",
    "if __name__ == \"__main__\":\n",
    "    t1=[threading.Thread(target=square, args=(i,)) for i in [1,2,3,4,5,6]]\n",
    "    t2=[threading.Thread(target=cube, args=(i,)) for i in [1,2,3,4,5,6]]\n",
    "    for thread1 in t1:\n",
    "        thread1.start()\n",
    "        thread1.join()\n",
    "    for thread2 in t2:\n",
    "        thread2.start()\n",
    "        thread2.join()"
   ]
  },
  {
   "cell_type": "markdown",
   "id": "e87037bc-5a40-451e-987c-fc3a981c8d9e",
   "metadata": {},
   "source": [
    "Q.5. State advantages and disadvantages of multithreading"
   ]
  },
  {
   "cell_type": "raw",
   "id": "6891b5b1-b770-4947-a51d-ba4ce2b78ad1",
   "metadata": {},
   "source": [
    "Ans:- Advantages:-\n",
    "1) Enhanced performance by decreased development time\n",
    "2) Decreased cost of maintenance\n",
    "3) Better use of CPU resource\n",
    "\n",
    "     Disadvantages:-\n",
    "1) Overhead switching of context\n",
    "2) Unpredictable results"
   ]
  },
  {
   "cell_type": "markdown",
   "id": "ff53e744-b946-4a8e-b5c3-f5e43c7e847c",
   "metadata": {},
   "source": [
    "Q.6 Explain deadlocks and race conditions."
   ]
  },
  {
   "cell_type": "markdown",
   "id": "180d11f1-ee28-481c-b4ce-7baa4b593895",
   "metadata": {},
   "source": [
    "Ans:- deadlock:- a condition in which two or more threads are blocked forever because they are waiting for each other. "
   ]
  },
  {
   "cell_type": "markdown",
   "id": "87383415-63b9-4388-8867-333b3ce0ccb7",
   "metadata": {},
   "source": [
    "race:- occurs when two or more threads try to access a shared variable simultaneously, leading to unpredictable outcomes. "
   ]
  }
 ],
 "metadata": {
  "kernelspec": {
   "display_name": "Python 3 (ipykernel)",
   "language": "python",
   "name": "python3"
  },
  "language_info": {
   "codemirror_mode": {
    "name": "ipython",
    "version": 3
   },
   "file_extension": ".py",
   "mimetype": "text/x-python",
   "name": "python",
   "nbconvert_exporter": "python",
   "pygments_lexer": "ipython3",
   "version": "3.10.8"
  }
 },
 "nbformat": 4,
 "nbformat_minor": 5
}
